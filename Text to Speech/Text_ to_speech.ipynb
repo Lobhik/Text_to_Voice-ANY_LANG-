{
 "cells": [
  {
   "cell_type": "code",
   "execution_count": 10,
   "id": "8903e1e4",
   "metadata": {},
   "outputs": [
    {
     "name": "stdout",
     "output_type": "stream",
     "text": [
      "Requirement already satisfied: docx2txt in c:\\users\\computer\\anaconda3\\lib\\site-packages (0.8)\n"
     ]
    },
    {
     "name": "stderr",
     "output_type": "stream",
     "text": [
      "WARNING: Ignoring invalid distribution -illow (c:\\users\\computer\\anaconda3\\lib\\site-packages)\n",
      "WARNING: Ignoring invalid distribution -illow (c:\\users\\computer\\anaconda3\\lib\\site-packages)\n",
      "WARNING: Ignoring invalid distribution -illow (c:\\users\\computer\\anaconda3\\lib\\site-packages)\n",
      "WARNING: Ignoring invalid distribution -illow (c:\\users\\computer\\anaconda3\\lib\\site-packages)\n",
      "WARNING: Ignoring invalid distribution -illow (c:\\users\\computer\\anaconda3\\lib\\site-packages)\n",
      "WARNING: Ignoring invalid distribution -illow (c:\\users\\computer\\anaconda3\\lib\\site-packages)\n"
     ]
    }
   ],
   "source": [
    "import gtts\n",
    "from playsound import playsound\n",
    "import os\n",
    "!pip install docx2txt"
   ]
  },
  {
   "cell_type": "code",
   "execution_count": 18,
   "id": "6901105f",
   "metadata": {},
   "outputs": [],
   "source": [
    "import docx2txt\n",
    "\n",
    "file = docx2txt.process(\"telgu.docx\")"
   ]
  },
  {
   "cell_type": "code",
   "execution_count": 19,
   "id": "d0d6caf0",
   "metadata": {},
   "outputs": [
    {
     "data": {
      "text/plain": [
       "'1998లో పోఖ్రాన్\\u200cలో జరిగిన అణు పరీక్ష అయిన శక్తి యొక్క వార్షికోత్సవాన్ని పురస్కరించుకుని ప్రతి సంవత్సరం మే 11వ తేదీన జాతీయ సాంకేతిక దినోత్సవాన్ని జరుపుకుంటారు. జాతీయ సాంకేతిక దినోత్సవం భారతదేశంలోని కళాశాలల విద్యార్థులు జరుపుకునే ముఖ్యమైన సాంకేతిక పండుగలలో ఒకటి. మరియు పాఠశాలలు రాష్ట్రంలోని వివిధ సాంకేతిక ప్రాజెక్టులను అలాగే జాతీయ స్థాయి ప్రదర్శనలను ప్రదర్శించడం ద్వారా. సైన్స్ అండ్ టెక్నాలజీ మంత్రిత్వ శాఖ విద్యార్థులకు, ఆవిష్కర్తలకు, పరిశోధకులకు మరియు దేశంలోని ప్రజలకు ఈ సందర్భంగా ఒక ప్రత్యేక సందేశాన్ని ఇస్తుంది.'"
      ]
     },
     "execution_count": 19,
     "metadata": {},
     "output_type": "execute_result"
    }
   ],
   "source": [
    "file"
   ]
  },
  {
   "cell_type": "code",
   "execution_count": 4,
   "id": "e20a9d8c",
   "metadata": {},
   "outputs": [
    {
     "ename": "AttributeError",
     "evalue": "'str' object has no attribute 'read'",
     "output_type": "error",
     "traceback": [
      "\u001b[1;31m---------------------------------------------------------------------------\u001b[0m",
      "\u001b[1;31mAttributeError\u001b[0m                            Traceback (most recent call last)",
      "Input \u001b[1;32mIn [4]\u001b[0m, in \u001b[0;36m<cell line: 1>\u001b[1;34m()\u001b[0m\n\u001b[1;32m----> 1\u001b[0m file \u001b[38;5;241m=\u001b[39m \u001b[43mfile\u001b[49m\u001b[38;5;241;43m.\u001b[39;49m\u001b[43mread\u001b[49m()\n\u001b[0;32m      2\u001b[0m file\n",
      "\u001b[1;31mAttributeError\u001b[0m: 'str' object has no attribute 'read'"
     ]
    }
   ],
   "source": [
    "file = file.read()\n",
    "file"
   ]
  },
  {
   "cell_type": "code",
   "execution_count": 20,
   "id": "ddf3a3a1",
   "metadata": {},
   "outputs": [
    {
     "data": {
      "text/plain": [
       "'mr:Marathi, hi:Hindi, ta:Tamil '"
      ]
     },
     "execution_count": 20,
     "metadata": {},
     "output_type": "execute_result"
    }
   ],
   "source": [
    "# make request to google to get synthesis\n",
    "tts = gtts.gTTS(file, lang = 'te')\n",
    "'''mr:Marathi, hi:Hindi, ta:Tamil '''"
   ]
  },
  {
   "cell_type": "code",
   "execution_count": 7,
   "id": "10b8839f",
   "metadata": {},
   "outputs": [
    {
     "name": "stdout",
     "output_type": "stream",
     "text": [
      "{'af': 'Afrikaans', 'ar': 'Arabic', 'bg': 'Bulgarian', 'bn': 'Bengali', 'bs': 'Bosnian', 'ca': 'Catalan', 'cs': 'Czech', 'cy': 'Welsh', 'da': 'Danish', 'de': 'German', 'el': 'Greek', 'en': 'English', 'eo': 'Esperanto', 'es': 'Spanish', 'et': 'Estonian', 'fi': 'Finnish', 'fr': 'French', 'gu': 'Gujarati', 'hi': 'Hindi', 'hr': 'Croatian', 'hu': 'Hungarian', 'hy': 'Armenian', 'id': 'Indonesian', 'is': 'Icelandic', 'it': 'Italian', 'iw': 'Hebrew', 'ja': 'Japanese', 'jw': 'Javanese', 'km': 'Khmer', 'kn': 'Kannada', 'ko': 'Korean', 'la': 'Latin', 'lv': 'Latvian', 'mk': 'Macedonian', 'ms': 'Malay', 'ml': 'Malayalam', 'mr': 'Marathi', 'my': 'Myanmar (Burmese)', 'ne': 'Nepali', 'nl': 'Dutch', 'no': 'Norwegian', 'pl': 'Polish', 'pt': 'Portuguese', 'ro': 'Romanian', 'ru': 'Russian', 'si': 'Sinhala', 'sk': 'Slovak', 'sq': 'Albanian', 'sr': 'Serbian', 'su': 'Sundanese', 'sv': 'Swedish', 'sw': 'Swahili', 'ta': 'Tamil', 'te': 'Telugu', 'th': 'Thai', 'tl': 'Filipino', 'tr': 'Turkish', 'uk': 'Ukrainian', 'ur': 'Urdu', 'vi': 'Vietnamese', 'zh-CN': 'Chinese', 'zh-TW': 'Chinese (Mandarin/Taiwan)', 'zh': 'Chinese (Mandarin)'}\n"
     ]
    }
   ],
   "source": [
    "# how many languages support gtts module shows in key and value pair\n",
    "print(gtts.lang.tts_langs())\n"
   ]
  },
  {
   "cell_type": "code",
   "execution_count": 16,
   "id": "b71089a8",
   "metadata": {},
   "outputs": [],
   "source": [
    "#remove the audio file\n",
    "os.remove('audio.mp3')\n"
   ]
  },
  {
   "cell_type": "code",
   "execution_count": 21,
   "id": "240787e0",
   "metadata": {},
   "outputs": [],
   "source": [
    "# save the audio file\n",
    "\n",
    "tts.save(\"telgu.mp3\")"
   ]
  },
  {
   "cell_type": "code",
   "execution_count": 33,
   "id": "96e21038",
   "metadata": {},
   "outputs": [],
   "source": [
    "def text_to_speech(file,language):\n",
    "    file = docx2txt.process(file)\n",
    "    tts = gtts.gTTS(file, lang = language)\n",
    "    #os.remove('audio.mp3')\n",
    "    return tts.save(\"audio.mp3\")  "
   ]
  },
  {
   "cell_type": "code",
   "execution_count": 34,
   "id": "b813bdd7",
   "metadata": {},
   "outputs": [],
   "source": [
    "text_to_speech(\"word_file.docx\", \"en\")"
   ]
  },
  {
   "cell_type": "code",
   "execution_count": 2,
   "id": "54366c7b",
   "metadata": {},
   "outputs": [],
   "source": [
    "import pyttsx3 #import the library\n",
    "\n",
    "def voiceChange():\n",
    "    eng = pyttsx3.init() #initialize an instance\n",
    "    voice = eng.getProperty('voices') #get the available voices\n",
    "    # eng.setProperty('voice', voice[0].id) #set the voice to index 0 for male voice\n",
    "    eng.setProperty('voice', voice[1].id) #changing voice to index 1 for female voice\n",
    "    eng.say(\"This is a demonstration of how to convert index of voice using pyttsx3 library in python.\") #say method for passing text to be spoken\n",
    "    eng.runAndWait() #run and process the voice command\n",
    "\n",
    "if __name__ == \"__main__\":\n",
    "    voiceChange()"
   ]
  },
  {
   "cell_type": "code",
   "execution_count": 5,
   "id": "fe54375c",
   "metadata": {},
   "outputs": [],
   "source": [
    "import pyttsx3 #import the library\n",
    "\n",
    "def textToVoice():\n",
    "    eng = pyttsx3.init() #initialize an instance\n",
    "    eng.say(\"This is a demonstration of how to convert text to voice using pyttsx3 library in python.\") #say method for passing text to be spoken\n",
    "    eng.runAndWait() #run and process the voice command\n",
    "\n",
    "if __name__ == \"__main__\":\n",
    "    textToVoice()"
   ]
  },
  {
   "cell_type": "code",
   "execution_count": 6,
   "id": "d637f1d1",
   "metadata": {},
   "outputs": [],
   "source": [
    "# Python program to show\n",
    "# how to convert text to speech\n",
    "import pyttsx3\n",
    "\n",
    "# Initialize the converter\n",
    "converter = pyttsx3.init()\n",
    "\n",
    "# Set properties before adding\n",
    "# Things to say\n",
    "\n",
    "# Sets speed percent\n",
    "# Can be more than 100\n",
    "converter.setProperty('rate', 150)\n",
    "# Set volume 0-1\n",
    "converter.setProperty('volume', 0.7)\n",
    "\n",
    "# Queue the entered text\n",
    "# There will be a pause between\n",
    "# each one like a pause in\n",
    "# a sentence\n",
    "converter.say(\"Hello GeeksforGeeks\")\n",
    "converter.say(\"I'm also a geek\")\n",
    "\n",
    "# Empties the say() queue\n",
    "# Program will not continue\n",
    "# until all speech is done talking\n",
    "converter.runAndWait()\n"
   ]
  },
  {
   "cell_type": "code",
   "execution_count": 7,
   "id": "337fe7ca",
   "metadata": {},
   "outputs": [
    {
     "name": "stdout",
     "output_type": "stream",
     "text": [
      "Voice:\n",
      "ID: HKEY_LOCAL_MACHINE\\SOFTWARE\\Microsoft\\Speech\\Voices\\Tokens\\TTS_MS_EN-GB_HAZEL_11.0\n",
      "Name: Microsoft Hazel Desktop - English (Great Britain)\n",
      "Age: None\n",
      "Gender: None\n",
      "Languages Known: []\n",
      "Voice:\n",
      "ID: HKEY_LOCAL_MACHINE\\SOFTWARE\\Microsoft\\Speech\\Voices\\Tokens\\TTS_MS_EN-US_ZIRA_11.0\n",
      "Name: Microsoft Zira Desktop - English (United States)\n",
      "Age: None\n",
      "Gender: None\n",
      "Languages Known: []\n"
     ]
    }
   ],
   "source": [
    "voices = converter.getProperty('voices')\n",
    "\n",
    "for voice in voices:\n",
    "\t# to get the info. about various voices in our PC\n",
    "\tprint(\"Voice:\")\n",
    "\tprint(\"ID: %s\" %voice.id)\n",
    "\tprint(\"Name: %s\" %voice.name)\n",
    "\tprint(\"Age: %s\" %voice.age)\n",
    "\tprint(\"Gender: %s\" %voice.gender)\n",
    "\tprint(\"Languages Known: %s\" %voice.languages)\n"
   ]
  },
  {
   "cell_type": "code",
   "execution_count": 7,
   "id": "4787260f",
   "metadata": {},
   "outputs": [],
   "source": [
    "def speak(text):\n",
    "\n",
    "    engine = pyttsx3.init()\n",
    "\n",
    "    voices = engine.getProperty('voices')\n",
    "\n",
    "    engine.setProperty('voice',voices[0].id)\n",
    "\n",
    "    engine.setProperty('rate', 130 )\n",
    "\n",
    "    engine.setProperty('volume',2.0)\n",
    "\n",
    "    engine.say(text)\n",
    "\n",
    "    engine.runAndWait()\n",
    "\n",
    "speak('hello lobhik this is delhi')"
   ]
  },
  {
   "cell_type": "code",
   "execution_count": null,
   "id": "3ff77635",
   "metadata": {},
   "outputs": [],
   "source": [
    "\n",
    "# Program to show various ways to read and\n",
    "# write data in a file.\n",
    "file1 = open(\"myfile.txt\",\"w\")\n",
    "L = [\"This is Delhi \\n\",\"This is Paris \\n\",\"This is London \\n\"]\n",
    "\n",
    "# \\n is placed to indicate EOL (End of Line)\n",
    "file1.write(\"Hello \\n\")\n",
    "file1.writelines(L)\n",
    "file1.close() #to change file access modes\n",
    "\n",
    "file1 = open(\"myfile.txt\",\"r+\")\n",
    "\n",
    "print(\"Output of Read function is \")\n",
    "print(file1.read())\n",
    "print()\n",
    "\n",
    "# seek(n) takes the file handle to the nth\n",
    "# bite from the beginning.\n",
    "file1.seek(0)\n",
    "\n",
    "print( \"Output of Readline function is \")\n",
    "print(file1.readline())\n",
    "print()\n",
    "\n",
    "file1.seek(0)\n",
    "\n",
    "# To show difference between read and readline\n",
    "print(\"Output of Read(9) function is \")\n",
    "print(file1.read(9))\n",
    "print()\n",
    "\n",
    "file1.seek(0)\n",
    "\n",
    "print(\"Output of Readline(9) function is \")\n",
    "print(file1.readline(9))\n",
    "\n",
    "file1.seek(0)\n",
    "# readlines function\n",
    "print(\"Output of Readlines function is \")\n",
    "print(file1.readlines())\n",
    "print()\n",
    "file1.close()\n"
   ]
  },
  {
   "cell_type": "code",
   "execution_count": null,
   "id": "0b2ed5a0",
   "metadata": {},
   "outputs": [],
   "source": []
  }
 ],
 "metadata": {
  "kernelspec": {
   "display_name": "Python 3 (ipykernel)",
   "language": "python",
   "name": "python3"
  },
  "language_info": {
   "codemirror_mode": {
    "name": "ipython",
    "version": 3
   },
   "file_extension": ".py",
   "mimetype": "text/x-python",
   "name": "python",
   "nbconvert_exporter": "python",
   "pygments_lexer": "ipython3",
   "version": "3.9.12"
  }
 },
 "nbformat": 4,
 "nbformat_minor": 5
}
